{
 "cells": [
  {
   "cell_type": "code",
   "execution_count": 1,
   "metadata": {
    "collapsed": true
   },
   "outputs": [],
   "source": [
    "### 1.数据接口\n",
    "# encoding: UTF-8\n",
    "import logging\n",
    "\n",
    "logger = logging.getLogger()\n",
    "\n",
    "import requests\n",
    "import json\n",
    "import pandas as pd\n",
    "import numpy as np\n",
    "import time\n",
    "from datetime import datetime\n",
    "\n",
    "class SQI_DB(object):\n",
    "    def __init__(self, url='http://182.254.241.204:5001', user='huangyangcheng@sqicapital.com', password='sq123456'):\n",
    "        self.url = url\n",
    "        self.user = user\n",
    "        self.password = password\n",
    "        self.token = self.generate_token()\n",
    "\n",
    "    def generate_token(self):\n",
    "        login_url = self.url + \"/auth/login\"\n",
    "        headers = {'content-type': 'application/json'}\n",
    "        login_info = {'email': self.user, 'password': self.password}\n",
    "        login_response = requests.post(login_url, data=json.dumps(login_info), headers=headers)\n",
    "        return json.loads(login_response.text)['auth_token']\n",
    "\n",
    "    #-------------------------------------------------------------------------------------------------------------------\n",
    "    #CCM日频时间序列接口\n",
    "    def get_ssd(self, index_id, startday='', endday='', source='ifind', ret_type='df'):\n",
    "        data_header = {'Authorization': 'Basic ' + self.token, 'content-type': 'application/json'}\n",
    "        data_url = self.url + \"/ssd\"\n",
    "        data_info = {\n",
    "            'indexes': [\n",
    "                {\n",
    "                    'id': index_id,\n",
    "                    'startday': startday,\n",
    "                    'endday': endday,\n",
    "                }\n",
    "            ],\n",
    "            'source': source\n",
    "        }\n",
    "        data_rsp = requests.post(data_url, data=json.dumps(data_info), headers=data_header)\n",
    "        data = json.loads(json.loads(data_rsp.text)['data'])\n",
    "        if ret_type == 'df':\n",
    "            df = pd.DataFrame(data)\n",
    "        else:\n",
    "            # raise warning !\n",
    "            raise ValueError('Unsupported ret_type={}'.format(ret_type))\n",
    "        return df\n",
    "\n",
    "    #CCM K线接口数据\n",
    "    def get_bar(self, symbol, bartype, ret_type='df'):\n",
    "        data_header = {'Authorization': 'Basic ' + self.token, 'content-type': 'application/json'}\n",
    "        data_url = self.url + \"/bar\"\n",
    "        data_info = {\n",
    "            'index':\n",
    "                {\n",
    "                    'symbol': symbol,\n",
    "                    'bartype': bartype  #'1 Min'  '5 Min' '15 Min'  '1 Hour' 'Daily'\n",
    "                }\n",
    "        }\n",
    "        data_rsp = requests.post(data_url, data=json.dumps(data_info), headers=data_header)\n",
    "        data = json.loads(json.loads(data_rsp.text)['data'])\n",
    "        if ret_type == 'df':\n",
    "            df = pd.DataFrame(data)\n",
    "        else:\n",
    "            raise ValueError('Unsupported ret_type={}'.format(ret_type))\n",
    "        return df\n",
    "\n"
   ]
  },
  {
   "cell_type": "code",
   "execution_count": 2,
   "outputs": [],
   "source": [
    "download = SQI_DB()"
   ],
   "metadata": {
    "collapsed": false
   }
  },
  {
   "cell_type": "code",
   "execution_count": 17,
   "outputs": [
    {
     "data": {
      "text/plain": "     tradingday  index_value    index_id\n0      20070326      29175.0  ZN8888.SHF\n1      20070327      29670.0  ZN8888.SHF\n2      20070328      29523.0  ZN8888.SHF\n3      20070329      29042.0  ZN8888.SHF\n4      20070330      29389.0  ZN8888.SHF\n...         ...          ...         ...\n3914   20230426      21205.0  ZN8888.SHF\n3915   20230427      21047.0  ZN8888.SHF\n3916   20230428      21197.0  ZN8888.SHF\n3917   20230504      21026.0  ZN8888.SHF\n3918   20230505      21199.0  ZN8888.SHF\n\n[3919 rows x 3 columns]",
      "text/html": "<div>\n<style scoped>\n    .dataframe tbody tr th:only-of-type {\n        vertical-align: middle;\n    }\n\n    .dataframe tbody tr th {\n        vertical-align: top;\n    }\n\n    .dataframe thead th {\n        text-align: right;\n    }\n</style>\n<table border=\"1\" class=\"dataframe\">\n  <thead>\n    <tr style=\"text-align: right;\">\n      <th></th>\n      <th>tradingday</th>\n      <th>index_value</th>\n      <th>index_id</th>\n    </tr>\n  </thead>\n  <tbody>\n    <tr>\n      <th>0</th>\n      <td>20070326</td>\n      <td>29175.0</td>\n      <td>ZN8888.SHF</td>\n    </tr>\n    <tr>\n      <th>1</th>\n      <td>20070327</td>\n      <td>29670.0</td>\n      <td>ZN8888.SHF</td>\n    </tr>\n    <tr>\n      <th>2</th>\n      <td>20070328</td>\n      <td>29523.0</td>\n      <td>ZN8888.SHF</td>\n    </tr>\n    <tr>\n      <th>3</th>\n      <td>20070329</td>\n      <td>29042.0</td>\n      <td>ZN8888.SHF</td>\n    </tr>\n    <tr>\n      <th>4</th>\n      <td>20070330</td>\n      <td>29389.0</td>\n      <td>ZN8888.SHF</td>\n    </tr>\n    <tr>\n      <th>...</th>\n      <td>...</td>\n      <td>...</td>\n      <td>...</td>\n    </tr>\n    <tr>\n      <th>3914</th>\n      <td>20230426</td>\n      <td>21205.0</td>\n      <td>ZN8888.SHF</td>\n    </tr>\n    <tr>\n      <th>3915</th>\n      <td>20230427</td>\n      <td>21047.0</td>\n      <td>ZN8888.SHF</td>\n    </tr>\n    <tr>\n      <th>3916</th>\n      <td>20230428</td>\n      <td>21197.0</td>\n      <td>ZN8888.SHF</td>\n    </tr>\n    <tr>\n      <th>3917</th>\n      <td>20230504</td>\n      <td>21026.0</td>\n      <td>ZN8888.SHF</td>\n    </tr>\n    <tr>\n      <th>3918</th>\n      <td>20230505</td>\n      <td>21199.0</td>\n      <td>ZN8888.SHF</td>\n    </tr>\n  </tbody>\n</table>\n<p>3919 rows × 3 columns</p>\n</div>"
     },
     "execution_count": 17,
     "metadata": {},
     "output_type": "execute_result"
    }
   ],
   "source": [
    "download.get_ssd('ZN8888.SHF').dropna()"
   ],
   "metadata": {
    "collapsed": false
   }
  }
 ],
 "metadata": {
  "kernelspec": {
   "display_name": "Python 3",
   "language": "python",
   "name": "python3"
  },
  "language_info": {
   "codemirror_mode": {
    "name": "ipython",
    "version": 2
   },
   "file_extension": ".py",
   "mimetype": "text/x-python",
   "name": "python",
   "nbconvert_exporter": "python",
   "pygments_lexer": "ipython2",
   "version": "2.7.6"
  }
 },
 "nbformat": 4,
 "nbformat_minor": 0
}

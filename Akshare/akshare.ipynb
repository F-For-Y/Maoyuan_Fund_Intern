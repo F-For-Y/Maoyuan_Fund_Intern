{
 "cells": [
  {
   "cell_type": "code",
   "execution_count": 2,
   "outputs": [
    {
     "name": "stdout",
     "output_type": "stream",
     "text": [
      "dict_keys(['AP', 'UR401', 'CF', 'CJ', 'CY', 'FG', 'MA', 'OI', 'PF', 'PK', 'RM', 'RS', 'SA', 'SF', 'SM', 'SR', 'PTA', 'UR', 'AP310', 'AP311', 'AP401', 'CF307', 'CF309', 'CF311', 'CF401', 'CJ307', 'CJ309', 'CY306', 'FG306', 'FG307', 'FG308', 'FG309', 'FG310', 'FG311', 'FG312', 'FG401', 'MA306', 'MA307', 'MA308', 'MA309', 'MA310', 'MA311', 'MA312', 'MA401', 'OI307', 'OI309', 'OI311', 'OI401', 'PF306', 'PF307', 'PF308', 'PF309', 'PF310', 'PK310', 'PK311', 'PK401', 'RM307', 'RM308', 'RM309', 'RM311', 'RM401', 'RS307', 'SA306', 'SA307', 'SA308', 'SA309', 'SA310', 'SA311', 'SA312', 'SA401', 'SA402', 'SA403', 'SA404', 'SF306', 'SF307', 'SF308', 'SF309', 'SF310', 'SM306', 'SM307', 'SM308', 'SM309', 'SM310', 'SM401', 'SR307', 'SR309', 'SR311', 'SR401', 'TA306', 'TA307', 'TA308', 'TA309', 'TA310', 'TA311', 'TA401', 'UR306', 'UR307', 'UR308', 'UR309', 'UR310'])\n"
     ]
    }
   ],
   "source": [
    "import akshare as ak\n",
    "import pandas as pd\n",
    "import datetime\n",
    "ak_d = ak.get_czce_rank_table(date = '20230519')\n",
    "print(ak_d.keys())"
   ],
   "metadata": {
    "collapsed": false
   }
  },
  {
   "cell_type": "code",
   "execution_count": 3,
   "outputs": [
    {
     "data": {
      "text/plain": "   rank vol_party_name      vol  vol_chg long_party_name long_open_interest  \\\n0     1           中信期货  314,812   40,496            中信期货            117,046   \n1     2           东证期货  147,879   18,137            国泰君安             74,239   \n2     3           海通期货  108,198   30,118            东证期货             59,057   \n3     4           银河期货   98,349   19,187            银河期货             49,722   \n4     5           华西期货   70,140   21,382            永安期货             33,088   \n5     6           国泰君安   67,361     -988            海通期货             30,059   \n6     7           华闻期货   48,081      374            中信建投             27,633   \n7     8           华泰期货   42,697    6,681            华泰期货             26,599   \n8     9           长江期货   42,180   15,721            新湖期货             24,798   \n9    10           中辉期货   37,230  -13,283            招商期货             23,854   \n10   11           中原期货   34,315    5,523          国投安信期货             21,354   \n11   12           中信建投   28,545   10,040            浙商期货             20,916   \n12   13           东吴期货   28,011    6,441            中泰期货             20,470   \n13   14           浙商期货   27,028   -6,197            中粮期货             18,041   \n14   15           徽商期货   25,308    4,671            一德期货             16,996   \n15   16           广发期货   23,896    2,939            国联期货             14,879   \n16   17           招商期货   22,378   12,803            宏源期货             14,757   \n17   18           方正中期   21,632    4,217            方正中期             13,914   \n18   19           南华期货   21,596   -5,930            广发期货             13,692   \n19   20           宏源期货   21,371    9,714            中国国际             12,491   \n\n   long_open_interest_chg short_party_name short_open_interest  \\\n0                   1,020             中信期货              97,011   \n1                   5,020             银河期货              66,713   \n2                   1,688             国泰君安              62,364   \n3                   4,078             中国国际              50,324   \n4                   2,572             东证期货              46,909   \n5                     734             永安期货              43,135   \n6                     920             中粮期货              42,105   \n7                   1,429             南华期货              38,602   \n8                     915           华融融达期货              38,018   \n9                    -491           国投安信期货              35,194   \n10                  1,366             国信期货              30,838   \n11                    503             新湖期货              28,732   \n12                   -394             首创期货              25,504   \n13                 -2,519             国贸期货              25,375   \n14                  1,271             招商期货              20,205   \n15                     52             浙商期货              19,817   \n16                    483             中信建投              19,460   \n17                   -210             华泰期货              17,940   \n18                    741             长江期货              17,176   \n19                    464             海通期货              17,058   \n\n   short_open_interest_chg  \n0                   -1,710  \n1                      727  \n2                      409  \n3                    1,717  \n4                   -2,875  \n5                     -140  \n6                      734  \n7                      -52  \n8                    1,700  \n9                    1,201  \n10                       6  \n11                     963  \n12                    -307  \n13                     -11  \n14                  -1,081  \n15                     -81  \n16                   1,575  \n17                   1,382  \n18                   3,840  \n19                  -1,472  ",
      "text/html": "<div>\n<style scoped>\n    .dataframe tbody tr th:only-of-type {\n        vertical-align: middle;\n    }\n\n    .dataframe tbody tr th {\n        vertical-align: top;\n    }\n\n    .dataframe thead th {\n        text-align: right;\n    }\n</style>\n<table border=\"1\" class=\"dataframe\">\n  <thead>\n    <tr style=\"text-align: right;\">\n      <th></th>\n      <th>rank</th>\n      <th>vol_party_name</th>\n      <th>vol</th>\n      <th>vol_chg</th>\n      <th>long_party_name</th>\n      <th>long_open_interest</th>\n      <th>long_open_interest_chg</th>\n      <th>short_party_name</th>\n      <th>short_open_interest</th>\n      <th>short_open_interest_chg</th>\n    </tr>\n  </thead>\n  <tbody>\n    <tr>\n      <th>0</th>\n      <td>1</td>\n      <td>中信期货</td>\n      <td>314,812</td>\n      <td>40,496</td>\n      <td>中信期货</td>\n      <td>117,046</td>\n      <td>1,020</td>\n      <td>中信期货</td>\n      <td>97,011</td>\n      <td>-1,710</td>\n    </tr>\n    <tr>\n      <th>1</th>\n      <td>2</td>\n      <td>东证期货</td>\n      <td>147,879</td>\n      <td>18,137</td>\n      <td>国泰君安</td>\n      <td>74,239</td>\n      <td>5,020</td>\n      <td>银河期货</td>\n      <td>66,713</td>\n      <td>727</td>\n    </tr>\n    <tr>\n      <th>2</th>\n      <td>3</td>\n      <td>海通期货</td>\n      <td>108,198</td>\n      <td>30,118</td>\n      <td>东证期货</td>\n      <td>59,057</td>\n      <td>1,688</td>\n      <td>国泰君安</td>\n      <td>62,364</td>\n      <td>409</td>\n    </tr>\n    <tr>\n      <th>3</th>\n      <td>4</td>\n      <td>银河期货</td>\n      <td>98,349</td>\n      <td>19,187</td>\n      <td>银河期货</td>\n      <td>49,722</td>\n      <td>4,078</td>\n      <td>中国国际</td>\n      <td>50,324</td>\n      <td>1,717</td>\n    </tr>\n    <tr>\n      <th>4</th>\n      <td>5</td>\n      <td>华西期货</td>\n      <td>70,140</td>\n      <td>21,382</td>\n      <td>永安期货</td>\n      <td>33,088</td>\n      <td>2,572</td>\n      <td>东证期货</td>\n      <td>46,909</td>\n      <td>-2,875</td>\n    </tr>\n    <tr>\n      <th>5</th>\n      <td>6</td>\n      <td>国泰君安</td>\n      <td>67,361</td>\n      <td>-988</td>\n      <td>海通期货</td>\n      <td>30,059</td>\n      <td>734</td>\n      <td>永安期货</td>\n      <td>43,135</td>\n      <td>-140</td>\n    </tr>\n    <tr>\n      <th>6</th>\n      <td>7</td>\n      <td>华闻期货</td>\n      <td>48,081</td>\n      <td>374</td>\n      <td>中信建投</td>\n      <td>27,633</td>\n      <td>920</td>\n      <td>中粮期货</td>\n      <td>42,105</td>\n      <td>734</td>\n    </tr>\n    <tr>\n      <th>7</th>\n      <td>8</td>\n      <td>华泰期货</td>\n      <td>42,697</td>\n      <td>6,681</td>\n      <td>华泰期货</td>\n      <td>26,599</td>\n      <td>1,429</td>\n      <td>南华期货</td>\n      <td>38,602</td>\n      <td>-52</td>\n    </tr>\n    <tr>\n      <th>8</th>\n      <td>9</td>\n      <td>长江期货</td>\n      <td>42,180</td>\n      <td>15,721</td>\n      <td>新湖期货</td>\n      <td>24,798</td>\n      <td>915</td>\n      <td>华融融达期货</td>\n      <td>38,018</td>\n      <td>1,700</td>\n    </tr>\n    <tr>\n      <th>9</th>\n      <td>10</td>\n      <td>中辉期货</td>\n      <td>37,230</td>\n      <td>-13,283</td>\n      <td>招商期货</td>\n      <td>23,854</td>\n      <td>-491</td>\n      <td>国投安信期货</td>\n      <td>35,194</td>\n      <td>1,201</td>\n    </tr>\n    <tr>\n      <th>10</th>\n      <td>11</td>\n      <td>中原期货</td>\n      <td>34,315</td>\n      <td>5,523</td>\n      <td>国投安信期货</td>\n      <td>21,354</td>\n      <td>1,366</td>\n      <td>国信期货</td>\n      <td>30,838</td>\n      <td>6</td>\n    </tr>\n    <tr>\n      <th>11</th>\n      <td>12</td>\n      <td>中信建投</td>\n      <td>28,545</td>\n      <td>10,040</td>\n      <td>浙商期货</td>\n      <td>20,916</td>\n      <td>503</td>\n      <td>新湖期货</td>\n      <td>28,732</td>\n      <td>963</td>\n    </tr>\n    <tr>\n      <th>12</th>\n      <td>13</td>\n      <td>东吴期货</td>\n      <td>28,011</td>\n      <td>6,441</td>\n      <td>中泰期货</td>\n      <td>20,470</td>\n      <td>-394</td>\n      <td>首创期货</td>\n      <td>25,504</td>\n      <td>-307</td>\n    </tr>\n    <tr>\n      <th>13</th>\n      <td>14</td>\n      <td>浙商期货</td>\n      <td>27,028</td>\n      <td>-6,197</td>\n      <td>中粮期货</td>\n      <td>18,041</td>\n      <td>-2,519</td>\n      <td>国贸期货</td>\n      <td>25,375</td>\n      <td>-11</td>\n    </tr>\n    <tr>\n      <th>14</th>\n      <td>15</td>\n      <td>徽商期货</td>\n      <td>25,308</td>\n      <td>4,671</td>\n      <td>一德期货</td>\n      <td>16,996</td>\n      <td>1,271</td>\n      <td>招商期货</td>\n      <td>20,205</td>\n      <td>-1,081</td>\n    </tr>\n    <tr>\n      <th>15</th>\n      <td>16</td>\n      <td>广发期货</td>\n      <td>23,896</td>\n      <td>2,939</td>\n      <td>国联期货</td>\n      <td>14,879</td>\n      <td>52</td>\n      <td>浙商期货</td>\n      <td>19,817</td>\n      <td>-81</td>\n    </tr>\n    <tr>\n      <th>16</th>\n      <td>17</td>\n      <td>招商期货</td>\n      <td>22,378</td>\n      <td>12,803</td>\n      <td>宏源期货</td>\n      <td>14,757</td>\n      <td>483</td>\n      <td>中信建投</td>\n      <td>19,460</td>\n      <td>1,575</td>\n    </tr>\n    <tr>\n      <th>17</th>\n      <td>18</td>\n      <td>方正中期</td>\n      <td>21,632</td>\n      <td>4,217</td>\n      <td>方正中期</td>\n      <td>13,914</td>\n      <td>-210</td>\n      <td>华泰期货</td>\n      <td>17,940</td>\n      <td>1,382</td>\n    </tr>\n    <tr>\n      <th>18</th>\n      <td>19</td>\n      <td>南华期货</td>\n      <td>21,596</td>\n      <td>-5,930</td>\n      <td>广发期货</td>\n      <td>13,692</td>\n      <td>741</td>\n      <td>长江期货</td>\n      <td>17,176</td>\n      <td>3,840</td>\n    </tr>\n    <tr>\n      <th>19</th>\n      <td>20</td>\n      <td>宏源期货</td>\n      <td>21,371</td>\n      <td>9,714</td>\n      <td>中国国际</td>\n      <td>12,491</td>\n      <td>464</td>\n      <td>海通期货</td>\n      <td>17,058</td>\n      <td>-1,472</td>\n    </tr>\n  </tbody>\n</table>\n</div>"
     },
     "execution_count": 3,
     "metadata": {},
     "output_type": "execute_result"
    }
   ],
   "source": [
    "# ak_d['c2305'][['long_party_name','long_open_interest','long_open_interest_chg', 'short_party_name','short_open_interest','short_open_interest_chg']]\n",
    "import re\n",
    "ak_d['CF'] = ak_d['CF'].sort_values(by=\"rank\",ascending=True)\n",
    "# ak_d['al2022']['vol'] = ak_d['CJ101']['vol'].apply(lambda x: re.sub('\\D', '', x))\n",
    "ak_d['CF']"
   ],
   "metadata": {
    "collapsed": false
   }
  },
  {
   "cell_type": "code",
   "execution_count": 1,
   "outputs": [
    {
     "name": "stdout",
     "output_type": "stream",
     "text": [
      "2023-05-05\n",
      "    symbol variety  vol_top5 vol_chg_top5 long_open_interest_top5  \\\n",
      "0    C2305       C     854.0      -5548.0                 16967.0   \n",
      "1    C2307       C  363032.0    -134788.0                400487.0   \n",
      "2    C2309       C   62907.0     -21166.0                117250.0   \n",
      "3    C2311       C  131393.0     -35122.0                135203.0   \n",
      "4    C2401       C   10711.0       1464.0                 37598.0   \n",
      "5    C2403       C   40011.0     -26955.0                 22806.0   \n",
      "6   IF2306      IF   17177.0       2081.0                 34373.0   \n",
      "7   IF2309      IF    6462.0       1193.0                 19206.0   \n",
      "8   IF2305      IF   39691.0       3274.0                 23121.0   \n",
      "9        C       C  608908.0    -222115.0                730311.0   \n",
      "10      IF      IF   63330.0       6548.0                 76700.0   \n",
      "\n",
      "   long_open_interest_chg_top5 short_open_interest_top5  \\\n",
      "0                         56.0                  21374.0   \n",
      "1                       6210.0                 318178.0   \n",
      "2                       2040.0                 133615.0   \n",
      "3                       5249.0                 143482.0   \n",
      "4                        575.0                  35191.0   \n",
      "5                       3070.0                  24492.0   \n",
      "6                       -382.0                  45772.0   \n",
      "7                        397.0                  24226.0   \n",
      "8                       -372.0                  27573.0   \n",
      "9                      17200.0                 676332.0   \n",
      "10                      -357.0                  97571.0   \n",
      "\n",
      "   short_open_interest_chg_top5 vol_top10 vol_chg_top10  ...  \\\n",
      "0                        -211.0     978.0       -5910.0  ...   \n",
      "1                       -8193.0  440065.0     -149718.0  ...   \n",
      "2                        5040.0   87978.0      -23318.0  ...   \n",
      "3                       11577.0  187340.0      -28084.0  ...   \n",
      "4                        3079.0   16374.0        2520.0  ...   \n",
      "5                        4874.0   56074.0      -37615.0  ...   \n",
      "6                         163.0   23087.0        3343.0  ...   \n",
      "7                         149.0    7957.0        1284.0  ...   \n",
      "8                         402.0   53160.0        5477.0  ...   \n",
      "9                       16166.0  788809.0     -242125.0  ...   \n",
      "10                        714.0   84204.0       10104.0  ...   \n",
      "\n",
      "   long_open_interest_chg_top15 short_open_interest_top15  \\\n",
      "0                        -110.0                   21374.0   \n",
      "1                       -2602.0                  587717.0   \n",
      "2                        2022.0                  215893.0   \n",
      "3                        9717.0                  263307.0   \n",
      "4                        1523.0                   46878.0   \n",
      "5                        5257.0                   36435.0   \n",
      "6                         511.0                   71925.0   \n",
      "7                         402.0                   43041.0   \n",
      "8                         -19.0                   41983.0   \n",
      "9                       15807.0                 1171604.0   \n",
      "10                        894.0                  156949.0   \n",
      "\n",
      "   short_open_interest_chg_top15 vol_top20 vol_chg_top20  \\\n",
      "0                         -211.0     984.0       -6168.0   \n",
      "1                         3474.0  534598.0     -149790.0   \n",
      "2                         5602.0  118836.0      -30985.0   \n",
      "3                        16501.0  246482.0      -20210.0   \n",
      "4                         3317.0   22430.0        3874.0   \n",
      "5                         5983.0   72270.0      -35935.0   \n",
      "6                          451.0   28452.0        5118.0   \n",
      "7                          361.0    9789.0        1695.0   \n",
      "8                           39.0   68406.0        7536.0   \n",
      "9                        34666.0  995600.0     -239214.0   \n",
      "10                         851.0  106647.0       14349.0   \n",
      "\n",
      "   long_open_interest_top20 long_open_interest_chg_top20  \\\n",
      "0                   21374.0                        -13.0   \n",
      "1                  710979.0                      -2944.0   \n",
      "2                  245531.0                       8087.0   \n",
      "3                  284401.0                      11082.0   \n",
      "4                   51796.0                       2053.0   \n",
      "5                   39441.0                       5347.0   \n",
      "6                   62683.0                        778.0   \n",
      "7                   35061.0                        424.0   \n",
      "8                   42436.0                       -411.0   \n",
      "9                 1353522.0                      23612.0   \n",
      "10                 140180.0                        791.0   \n",
      "\n",
      "   short_open_interest_top20 short_open_interest_chg_top20      date  \n",
      "0                    21374.0                        -211.0  20230505  \n",
      "1                   669067.0                        5190.0  20230505  \n",
      "2                   233169.0                        6870.0  20230505  \n",
      "3                   295809.0                       16612.0  20230505  \n",
      "4                    49369.0                        3422.0  20230505  \n",
      "5                    39087.0                        5876.0  20230505  \n",
      "6                    78193.0                         574.0  20230505  \n",
      "7                    46684.0                         432.0  20230505  \n",
      "8                    45307.0                         169.0  20230505  \n",
      "9                  1307875.0                       37759.0  20230505  \n",
      "10                  170184.0                        1175.0  20230505  \n",
      "\n",
      "[11 rows x 27 columns]\n"
     ]
    }
   ],
   "source": [
    "import akshare as ak\n",
    "import pandas as pd\n",
    "import datetime\n",
    "ak_d = ak.get_rank_sum_daily(start_day=\"20230505\", end_day=\"20230505\", vars_list=[\"IF\", \"C\"])\n",
    "print(ak_d)"
   ],
   "metadata": {
    "collapsed": false
   }
  },
  {
   "cell_type": "code",
   "execution_count": 12,
   "outputs": [
    {
     "data": {
      "text/plain": "    long_open_interest  long_open_interest_chg long_party_name  rank  \\\n20               62043                     302            None   999   \n19                1147                    -136            国投安信    20   \n18                1149                     -84            兴证期货    19   \n17                1225                     -67            五矿经易    18   \n16                1324                      37            永安期货    17   \n15                1336                       0            中金期货    16   \n14                1531                     -61            浙商期货    15   \n13                1653                       0            乾坤期货    14   \n12                1672                     114            华泰期货    13   \n11                1748                     107            光大期货    12   \n10                1754                     -34            大地期货    11   \n9                 1855                    -423            瑞银期货    10   \n8                 2722                     189            上海东证     9   \n7                 2981                      41            广发期货     8   \n6                 3018                    -109            银河期货     7   \n5                 3476                     807            申银万国     6   \n4                 4090                     -26            摩根大通     5   \n3                 5236                       3            海通期货     4   \n2                 5712                     -70            中信期货     3   \n1                 8727                     214            国泰君安     2   \n0                 9687                    -200            一德期货     1   \n\n    short_open_interest  short_open_interest_chg short_party_name  symbol  \\\n20                72194                     1382             None  IF2103   \n19                  865                      173             广发期货  IF2103   \n18                 1060                       -3             东航期货  IF2103   \n17                 1098                     -156             兴证期货  IF2103   \n16                 1333                      267             永安期货  IF2103   \n15                 1621                      -87             申银万国  IF2103   \n14                 1919                       42             光大期货  IF2103   \n13                 1929                      -13             平安期货  IF2103   \n12                 1987                       60             中信建投  IF2103   \n11                 2202                      114             国投安信  IF2103   \n10                 2233                       38             兴业期货  IF2103   \n9                  2510                       21             银河期货  IF2103   \n8                  2801                       55             中粮期货  IF2103   \n7                  2859                       42             建信期货  IF2103   \n6                  3186                      -95             招商期货  IF2103   \n5                  3732                      227             海通期货  IF2103   \n4                  3905                        0             中金期货  IF2103   \n3                  5278                      -60             国泰君安  IF2103   \n2                  6221                      387             华泰期货  IF2103   \n1                 12321                      -37             中信期货  IF2103   \n0                 13134                      407             上海东证  IF2103   \n\n      vol  vol_chg vol_party_name var  \n20  32747    -1760           None  IF  \n19    854      -35           浙商期货  IF  \n18    900      353           大地期货  IF  \n17    946      -61           国投安信  IF  \n16    962      113           国富期货  IF  \n15    965     -127           国信期货  IF  \n14    991     -122           方正中期  IF  \n13   1040     -318           五矿经易  IF  \n12   1100       63           华西期货  IF  \n11   1143      -89           南华期货  IF  \n10   1186      192           东兴期货  IF  \n9    1244       71           一德期货  IF  \n8    1284      246           申银万国  IF  \n7    1454     -750           兴证期货  IF  \n6    1539     -414           华泰期货  IF  \n5    1650      132           银河期货  IF  \n4    2554     -203           海通期货  IF  \n3    2626       58           华闻期货  IF  \n2    2946      921           上海东证  IF  \n1    2958    -1057           国泰君安  IF  \n0    4405     -733           中信期货  IF  ",
      "text/html": "<div>\n<style scoped>\n    .dataframe tbody tr th:only-of-type {\n        vertical-align: middle;\n    }\n\n    .dataframe tbody tr th {\n        vertical-align: top;\n    }\n\n    .dataframe thead th {\n        text-align: right;\n    }\n</style>\n<table border=\"1\" class=\"dataframe\">\n  <thead>\n    <tr style=\"text-align: right;\">\n      <th></th>\n      <th>long_open_interest</th>\n      <th>long_open_interest_chg</th>\n      <th>long_party_name</th>\n      <th>rank</th>\n      <th>short_open_interest</th>\n      <th>short_open_interest_chg</th>\n      <th>short_party_name</th>\n      <th>symbol</th>\n      <th>vol</th>\n      <th>vol_chg</th>\n      <th>vol_party_name</th>\n      <th>var</th>\n    </tr>\n  </thead>\n  <tbody>\n    <tr>\n      <th>20</th>\n      <td>62043</td>\n      <td>302</td>\n      <td>None</td>\n      <td>999</td>\n      <td>72194</td>\n      <td>1382</td>\n      <td>None</td>\n      <td>IF2103</td>\n      <td>32747</td>\n      <td>-1760</td>\n      <td>None</td>\n      <td>IF</td>\n    </tr>\n    <tr>\n      <th>19</th>\n      <td>1147</td>\n      <td>-136</td>\n      <td>国投安信</td>\n      <td>20</td>\n      <td>865</td>\n      <td>173</td>\n      <td>广发期货</td>\n      <td>IF2103</td>\n      <td>854</td>\n      <td>-35</td>\n      <td>浙商期货</td>\n      <td>IF</td>\n    </tr>\n    <tr>\n      <th>18</th>\n      <td>1149</td>\n      <td>-84</td>\n      <td>兴证期货</td>\n      <td>19</td>\n      <td>1060</td>\n      <td>-3</td>\n      <td>东航期货</td>\n      <td>IF2103</td>\n      <td>900</td>\n      <td>353</td>\n      <td>大地期货</td>\n      <td>IF</td>\n    </tr>\n    <tr>\n      <th>17</th>\n      <td>1225</td>\n      <td>-67</td>\n      <td>五矿经易</td>\n      <td>18</td>\n      <td>1098</td>\n      <td>-156</td>\n      <td>兴证期货</td>\n      <td>IF2103</td>\n      <td>946</td>\n      <td>-61</td>\n      <td>国投安信</td>\n      <td>IF</td>\n    </tr>\n    <tr>\n      <th>16</th>\n      <td>1324</td>\n      <td>37</td>\n      <td>永安期货</td>\n      <td>17</td>\n      <td>1333</td>\n      <td>267</td>\n      <td>永安期货</td>\n      <td>IF2103</td>\n      <td>962</td>\n      <td>113</td>\n      <td>国富期货</td>\n      <td>IF</td>\n    </tr>\n    <tr>\n      <th>15</th>\n      <td>1336</td>\n      <td>0</td>\n      <td>中金期货</td>\n      <td>16</td>\n      <td>1621</td>\n      <td>-87</td>\n      <td>申银万国</td>\n      <td>IF2103</td>\n      <td>965</td>\n      <td>-127</td>\n      <td>国信期货</td>\n      <td>IF</td>\n    </tr>\n    <tr>\n      <th>14</th>\n      <td>1531</td>\n      <td>-61</td>\n      <td>浙商期货</td>\n      <td>15</td>\n      <td>1919</td>\n      <td>42</td>\n      <td>光大期货</td>\n      <td>IF2103</td>\n      <td>991</td>\n      <td>-122</td>\n      <td>方正中期</td>\n      <td>IF</td>\n    </tr>\n    <tr>\n      <th>13</th>\n      <td>1653</td>\n      <td>0</td>\n      <td>乾坤期货</td>\n      <td>14</td>\n      <td>1929</td>\n      <td>-13</td>\n      <td>平安期货</td>\n      <td>IF2103</td>\n      <td>1040</td>\n      <td>-318</td>\n      <td>五矿经易</td>\n      <td>IF</td>\n    </tr>\n    <tr>\n      <th>12</th>\n      <td>1672</td>\n      <td>114</td>\n      <td>华泰期货</td>\n      <td>13</td>\n      <td>1987</td>\n      <td>60</td>\n      <td>中信建投</td>\n      <td>IF2103</td>\n      <td>1100</td>\n      <td>63</td>\n      <td>华西期货</td>\n      <td>IF</td>\n    </tr>\n    <tr>\n      <th>11</th>\n      <td>1748</td>\n      <td>107</td>\n      <td>光大期货</td>\n      <td>12</td>\n      <td>2202</td>\n      <td>114</td>\n      <td>国投安信</td>\n      <td>IF2103</td>\n      <td>1143</td>\n      <td>-89</td>\n      <td>南华期货</td>\n      <td>IF</td>\n    </tr>\n    <tr>\n      <th>10</th>\n      <td>1754</td>\n      <td>-34</td>\n      <td>大地期货</td>\n      <td>11</td>\n      <td>2233</td>\n      <td>38</td>\n      <td>兴业期货</td>\n      <td>IF2103</td>\n      <td>1186</td>\n      <td>192</td>\n      <td>东兴期货</td>\n      <td>IF</td>\n    </tr>\n    <tr>\n      <th>9</th>\n      <td>1855</td>\n      <td>-423</td>\n      <td>瑞银期货</td>\n      <td>10</td>\n      <td>2510</td>\n      <td>21</td>\n      <td>银河期货</td>\n      <td>IF2103</td>\n      <td>1244</td>\n      <td>71</td>\n      <td>一德期货</td>\n      <td>IF</td>\n    </tr>\n    <tr>\n      <th>8</th>\n      <td>2722</td>\n      <td>189</td>\n      <td>上海东证</td>\n      <td>9</td>\n      <td>2801</td>\n      <td>55</td>\n      <td>中粮期货</td>\n      <td>IF2103</td>\n      <td>1284</td>\n      <td>246</td>\n      <td>申银万国</td>\n      <td>IF</td>\n    </tr>\n    <tr>\n      <th>7</th>\n      <td>2981</td>\n      <td>41</td>\n      <td>广发期货</td>\n      <td>8</td>\n      <td>2859</td>\n      <td>42</td>\n      <td>建信期货</td>\n      <td>IF2103</td>\n      <td>1454</td>\n      <td>-750</td>\n      <td>兴证期货</td>\n      <td>IF</td>\n    </tr>\n    <tr>\n      <th>6</th>\n      <td>3018</td>\n      <td>-109</td>\n      <td>银河期货</td>\n      <td>7</td>\n      <td>3186</td>\n      <td>-95</td>\n      <td>招商期货</td>\n      <td>IF2103</td>\n      <td>1539</td>\n      <td>-414</td>\n      <td>华泰期货</td>\n      <td>IF</td>\n    </tr>\n    <tr>\n      <th>5</th>\n      <td>3476</td>\n      <td>807</td>\n      <td>申银万国</td>\n      <td>6</td>\n      <td>3732</td>\n      <td>227</td>\n      <td>海通期货</td>\n      <td>IF2103</td>\n      <td>1650</td>\n      <td>132</td>\n      <td>银河期货</td>\n      <td>IF</td>\n    </tr>\n    <tr>\n      <th>4</th>\n      <td>4090</td>\n      <td>-26</td>\n      <td>摩根大通</td>\n      <td>5</td>\n      <td>3905</td>\n      <td>0</td>\n      <td>中金期货</td>\n      <td>IF2103</td>\n      <td>2554</td>\n      <td>-203</td>\n      <td>海通期货</td>\n      <td>IF</td>\n    </tr>\n    <tr>\n      <th>3</th>\n      <td>5236</td>\n      <td>3</td>\n      <td>海通期货</td>\n      <td>4</td>\n      <td>5278</td>\n      <td>-60</td>\n      <td>国泰君安</td>\n      <td>IF2103</td>\n      <td>2626</td>\n      <td>58</td>\n      <td>华闻期货</td>\n      <td>IF</td>\n    </tr>\n    <tr>\n      <th>2</th>\n      <td>5712</td>\n      <td>-70</td>\n      <td>中信期货</td>\n      <td>3</td>\n      <td>6221</td>\n      <td>387</td>\n      <td>华泰期货</td>\n      <td>IF2103</td>\n      <td>2946</td>\n      <td>921</td>\n      <td>上海东证</td>\n      <td>IF</td>\n    </tr>\n    <tr>\n      <th>1</th>\n      <td>8727</td>\n      <td>214</td>\n      <td>国泰君安</td>\n      <td>2</td>\n      <td>12321</td>\n      <td>-37</td>\n      <td>中信期货</td>\n      <td>IF2103</td>\n      <td>2958</td>\n      <td>-1057</td>\n      <td>国泰君安</td>\n      <td>IF</td>\n    </tr>\n    <tr>\n      <th>0</th>\n      <td>9687</td>\n      <td>-200</td>\n      <td>一德期货</td>\n      <td>1</td>\n      <td>13134</td>\n      <td>407</td>\n      <td>上海东证</td>\n      <td>IF2103</td>\n      <td>4405</td>\n      <td>-733</td>\n      <td>中信期货</td>\n      <td>IF</td>\n    </tr>\n  </tbody>\n</table>\n</div>"
     },
     "execution_count": 12,
     "metadata": {},
     "output_type": "execute_result"
    }
   ],
   "source": [
    "ak_d['IF2103'] = ak_d['IF2103'].sort_values(by=\"rank\",ascending=False)\n",
    "ak_d['IF2103'].rename(columns={'variety': 'var'}, inplace=True)\n",
    "ak_d['IF2103']"
   ],
   "metadata": {
    "collapsed": false
   }
  },
  {
   "cell_type": "code",
   "execution_count": 3,
   "outputs": [
    {
     "name": "stdout",
     "output_type": "stream",
     "text": [
      "dict_keys(['cu2305', 'cu2307', 'cu2309', 'cu2306', 'cu2308', 'al2307', 'al2306', 'al2309', 'al2305', 'al2308', 'zn2305', 'zn2307', 'zn2306', 'pb2305', 'pb2307', 'pb2306', 'ni2305', 'ni2306', 'ni2307', 'sn2305', 'sn2306', 'sn2307', 'au2306', 'au2312', 'au2308', 'au2305', 'au2310', 'ag2312', 'ag2307', 'ag2306', 'ag2305', 'ag2308', 'ag2309', 'rb2308', 'rb2401', 'rb2307', 'rb2311', 'rb2306', 'rb2305', 'rb2310', 'hc2305', 'hc2307', 'hc2310', 'fu2306', 'fu2309', 'fu2307', 'bu2305', 'bu2309', 'bu2307', 'bu2306', 'bu2308', 'ru2401', 'ru2310', 'ru2305', 'ru2306', 'ru2307', 'ru2309', 'ru2308', 'nr2307', 'nr2306', 'nr2305', 'sp2306', 'sp2308', 'sp2309', 'sp2310', 'sp2305', 'sp2307', 'ss2305', 'ss2306', 'lu2307', 'lu2308', 'lu2306'])\n"
     ]
    }
   ],
   "source": [
    "import akshare as ak\n",
    "import pandas as pd\n",
    "import datetime\n",
    "ak_d = ak.get_shfe_rank_table(date = '20230505')\n",
    "print(ak_d.keys())"
   ],
   "metadata": {
    "collapsed": false
   }
  },
  {
   "cell_type": "code",
   "execution_count": 47,
   "outputs": [
    {
     "data": {
      "text/plain": "    symbol  rank vol_party_name   vol  vol_chg long_party_name  \\\n20  sn2101   999              -  92.0   -198.0               -   \n19  sn2101    20              -   0.0      0.0            东方汇金   \n18  sn2101    19              -   0.0      0.0            华安期货   \n17  sn2101    18              -   0.0      0.0            华泰期货   \n16  sn2101    17              -   0.0      0.0            信达期货   \n15  sn2101    16           国信期货   2.0    -36.0            瑞达期货   \n14  sn2101    15           华安期货   2.0     -2.0            方正中期   \n13  sn2101    14           平安期货   2.0     -3.0            平安期货   \n12  sn2101    13           招商期货   2.0     -8.0            国信期货   \n11  sn2101    12           中国国际   2.0      2.0            南华期货   \n10  sn2101    11           瑞达期货   2.0     -1.0            中信期货   \n9   sn2101    10           国贸期货   2.0     -3.0            东兴期货   \n8   sn2101     9           财信期货   4.0    -70.0            一德期货   \n7   sn2101     8           东兴期货   4.0      0.0            国泰君安   \n6   sn2101     7           南华期货   4.0      0.0            五矿经易   \n5   sn2101     6           东亚期货   4.0      4.0            格林大华   \n4   sn2101     5           上海大陆   4.0      4.0            光大期货   \n3   sn2101     4           金瑞期货   6.0      2.0            红塔期货   \n2   sn2101     3           广发期货   8.0      4.0            广发期货   \n1   sn2101     2           东证期货  10.0   -124.0            银河期货   \n0   sn2101     1           一德期货  34.0     33.0            国贸期货   \n\n    long_open_interest  long_open_interest_chg short_party_name  \\\n20              1896.0                    28.0                -   \n19                 2.0                     0.0                -   \n18                 2.0                     2.0                -   \n17                 2.0                     0.0             中原期货   \n16                 2.0                     0.0             中粮期货   \n15                 2.0                    -2.0             中大期货   \n14                 2.0                     0.0             弘业期货   \n13                 4.0                     2.0             上海中期   \n12                 8.0                    -2.0             国泰君安   \n11                10.0                    -4.0             五矿经易   \n10                14.0                     0.0             建信期货   \n9                 22.0                    -4.0             一德期货   \n8                 34.0                    34.0             先融期货   \n7                 48.0                     0.0             宏源期货   \n6                162.0                     0.0             海通期货   \n5                164.0                     0.0             南华期货   \n4                172.0                     0.0             广发期货   \n3                178.0                     0.0             中信期货   \n2                202.0                     2.0             光大期货   \n1                266.0                     0.0             财信期货   \n0                600.0                     0.0             银河期货   \n\n    short_open_interest  short_open_interest_chg variety  \n20               1896.0                      6.0      SN  \n19                  0.0                      0.0      SN  \n18                  0.0                      0.0      SN  \n17                  2.0                      0.0      SN  \n16                  4.0                      0.0      SN  \n15                  6.0                      0.0      SN  \n14                 12.0                      0.0      SN  \n13                 18.0                      0.0      SN  \n12                 24.0                      0.0      SN  \n11                 28.0                      0.0      SN  \n10                 32.0                      0.0      SN  \n9                  38.0                      0.0      SN  \n8                  42.0                      0.0      SN  \n7                  44.0                      0.0      SN  \n6                  50.0                      0.0      SN  \n5                  64.0                      0.0      SN  \n4                 174.0                      2.0      SN  \n3                 190.0                      0.0      SN  \n2                 224.0                      0.0      SN  \n1                 306.0                      4.0      SN  \n0                 638.0                      0.0      SN  ",
      "text/html": "<div>\n<style scoped>\n    .dataframe tbody tr th:only-of-type {\n        vertical-align: middle;\n    }\n\n    .dataframe tbody tr th {\n        vertical-align: top;\n    }\n\n    .dataframe thead th {\n        text-align: right;\n    }\n</style>\n<table border=\"1\" class=\"dataframe\">\n  <thead>\n    <tr style=\"text-align: right;\">\n      <th></th>\n      <th>symbol</th>\n      <th>rank</th>\n      <th>vol_party_name</th>\n      <th>vol</th>\n      <th>vol_chg</th>\n      <th>long_party_name</th>\n      <th>long_open_interest</th>\n      <th>long_open_interest_chg</th>\n      <th>short_party_name</th>\n      <th>short_open_interest</th>\n      <th>short_open_interest_chg</th>\n      <th>variety</th>\n    </tr>\n  </thead>\n  <tbody>\n    <tr>\n      <th>20</th>\n      <td>sn2101</td>\n      <td>999</td>\n      <td>-</td>\n      <td>92.0</td>\n      <td>-198.0</td>\n      <td>-</td>\n      <td>1896.0</td>\n      <td>28.0</td>\n      <td>-</td>\n      <td>1896.0</td>\n      <td>6.0</td>\n      <td>SN</td>\n    </tr>\n    <tr>\n      <th>19</th>\n      <td>sn2101</td>\n      <td>20</td>\n      <td>-</td>\n      <td>0.0</td>\n      <td>0.0</td>\n      <td>东方汇金</td>\n      <td>2.0</td>\n      <td>0.0</td>\n      <td>-</td>\n      <td>0.0</td>\n      <td>0.0</td>\n      <td>SN</td>\n    </tr>\n    <tr>\n      <th>18</th>\n      <td>sn2101</td>\n      <td>19</td>\n      <td>-</td>\n      <td>0.0</td>\n      <td>0.0</td>\n      <td>华安期货</td>\n      <td>2.0</td>\n      <td>2.0</td>\n      <td>-</td>\n      <td>0.0</td>\n      <td>0.0</td>\n      <td>SN</td>\n    </tr>\n    <tr>\n      <th>17</th>\n      <td>sn2101</td>\n      <td>18</td>\n      <td>-</td>\n      <td>0.0</td>\n      <td>0.0</td>\n      <td>华泰期货</td>\n      <td>2.0</td>\n      <td>0.0</td>\n      <td>中原期货</td>\n      <td>2.0</td>\n      <td>0.0</td>\n      <td>SN</td>\n    </tr>\n    <tr>\n      <th>16</th>\n      <td>sn2101</td>\n      <td>17</td>\n      <td>-</td>\n      <td>0.0</td>\n      <td>0.0</td>\n      <td>信达期货</td>\n      <td>2.0</td>\n      <td>0.0</td>\n      <td>中粮期货</td>\n      <td>4.0</td>\n      <td>0.0</td>\n      <td>SN</td>\n    </tr>\n    <tr>\n      <th>15</th>\n      <td>sn2101</td>\n      <td>16</td>\n      <td>国信期货</td>\n      <td>2.0</td>\n      <td>-36.0</td>\n      <td>瑞达期货</td>\n      <td>2.0</td>\n      <td>-2.0</td>\n      <td>中大期货</td>\n      <td>6.0</td>\n      <td>0.0</td>\n      <td>SN</td>\n    </tr>\n    <tr>\n      <th>14</th>\n      <td>sn2101</td>\n      <td>15</td>\n      <td>华安期货</td>\n      <td>2.0</td>\n      <td>-2.0</td>\n      <td>方正中期</td>\n      <td>2.0</td>\n      <td>0.0</td>\n      <td>弘业期货</td>\n      <td>12.0</td>\n      <td>0.0</td>\n      <td>SN</td>\n    </tr>\n    <tr>\n      <th>13</th>\n      <td>sn2101</td>\n      <td>14</td>\n      <td>平安期货</td>\n      <td>2.0</td>\n      <td>-3.0</td>\n      <td>平安期货</td>\n      <td>4.0</td>\n      <td>2.0</td>\n      <td>上海中期</td>\n      <td>18.0</td>\n      <td>0.0</td>\n      <td>SN</td>\n    </tr>\n    <tr>\n      <th>12</th>\n      <td>sn2101</td>\n      <td>13</td>\n      <td>招商期货</td>\n      <td>2.0</td>\n      <td>-8.0</td>\n      <td>国信期货</td>\n      <td>8.0</td>\n      <td>-2.0</td>\n      <td>国泰君安</td>\n      <td>24.0</td>\n      <td>0.0</td>\n      <td>SN</td>\n    </tr>\n    <tr>\n      <th>11</th>\n      <td>sn2101</td>\n      <td>12</td>\n      <td>中国国际</td>\n      <td>2.0</td>\n      <td>2.0</td>\n      <td>南华期货</td>\n      <td>10.0</td>\n      <td>-4.0</td>\n      <td>五矿经易</td>\n      <td>28.0</td>\n      <td>0.0</td>\n      <td>SN</td>\n    </tr>\n    <tr>\n      <th>10</th>\n      <td>sn2101</td>\n      <td>11</td>\n      <td>瑞达期货</td>\n      <td>2.0</td>\n      <td>-1.0</td>\n      <td>中信期货</td>\n      <td>14.0</td>\n      <td>0.0</td>\n      <td>建信期货</td>\n      <td>32.0</td>\n      <td>0.0</td>\n      <td>SN</td>\n    </tr>\n    <tr>\n      <th>9</th>\n      <td>sn2101</td>\n      <td>10</td>\n      <td>国贸期货</td>\n      <td>2.0</td>\n      <td>-3.0</td>\n      <td>东兴期货</td>\n      <td>22.0</td>\n      <td>-4.0</td>\n      <td>一德期货</td>\n      <td>38.0</td>\n      <td>0.0</td>\n      <td>SN</td>\n    </tr>\n    <tr>\n      <th>8</th>\n      <td>sn2101</td>\n      <td>9</td>\n      <td>财信期货</td>\n      <td>4.0</td>\n      <td>-70.0</td>\n      <td>一德期货</td>\n      <td>34.0</td>\n      <td>34.0</td>\n      <td>先融期货</td>\n      <td>42.0</td>\n      <td>0.0</td>\n      <td>SN</td>\n    </tr>\n    <tr>\n      <th>7</th>\n      <td>sn2101</td>\n      <td>8</td>\n      <td>东兴期货</td>\n      <td>4.0</td>\n      <td>0.0</td>\n      <td>国泰君安</td>\n      <td>48.0</td>\n      <td>0.0</td>\n      <td>宏源期货</td>\n      <td>44.0</td>\n      <td>0.0</td>\n      <td>SN</td>\n    </tr>\n    <tr>\n      <th>6</th>\n      <td>sn2101</td>\n      <td>7</td>\n      <td>南华期货</td>\n      <td>4.0</td>\n      <td>0.0</td>\n      <td>五矿经易</td>\n      <td>162.0</td>\n      <td>0.0</td>\n      <td>海通期货</td>\n      <td>50.0</td>\n      <td>0.0</td>\n      <td>SN</td>\n    </tr>\n    <tr>\n      <th>5</th>\n      <td>sn2101</td>\n      <td>6</td>\n      <td>东亚期货</td>\n      <td>4.0</td>\n      <td>4.0</td>\n      <td>格林大华</td>\n      <td>164.0</td>\n      <td>0.0</td>\n      <td>南华期货</td>\n      <td>64.0</td>\n      <td>0.0</td>\n      <td>SN</td>\n    </tr>\n    <tr>\n      <th>4</th>\n      <td>sn2101</td>\n      <td>5</td>\n      <td>上海大陆</td>\n      <td>4.0</td>\n      <td>4.0</td>\n      <td>光大期货</td>\n      <td>172.0</td>\n      <td>0.0</td>\n      <td>广发期货</td>\n      <td>174.0</td>\n      <td>2.0</td>\n      <td>SN</td>\n    </tr>\n    <tr>\n      <th>3</th>\n      <td>sn2101</td>\n      <td>4</td>\n      <td>金瑞期货</td>\n      <td>6.0</td>\n      <td>2.0</td>\n      <td>红塔期货</td>\n      <td>178.0</td>\n      <td>0.0</td>\n      <td>中信期货</td>\n      <td>190.0</td>\n      <td>0.0</td>\n      <td>SN</td>\n    </tr>\n    <tr>\n      <th>2</th>\n      <td>sn2101</td>\n      <td>3</td>\n      <td>广发期货</td>\n      <td>8.0</td>\n      <td>4.0</td>\n      <td>广发期货</td>\n      <td>202.0</td>\n      <td>2.0</td>\n      <td>光大期货</td>\n      <td>224.0</td>\n      <td>0.0</td>\n      <td>SN</td>\n    </tr>\n    <tr>\n      <th>1</th>\n      <td>sn2101</td>\n      <td>2</td>\n      <td>东证期货</td>\n      <td>10.0</td>\n      <td>-124.0</td>\n      <td>银河期货</td>\n      <td>266.0</td>\n      <td>0.0</td>\n      <td>财信期货</td>\n      <td>306.0</td>\n      <td>4.0</td>\n      <td>SN</td>\n    </tr>\n    <tr>\n      <th>0</th>\n      <td>sn2101</td>\n      <td>1</td>\n      <td>一德期货</td>\n      <td>34.0</td>\n      <td>33.0</td>\n      <td>国贸期货</td>\n      <td>600.0</td>\n      <td>0.0</td>\n      <td>银河期货</td>\n      <td>638.0</td>\n      <td>0.0</td>\n      <td>SN</td>\n    </tr>\n  </tbody>\n</table>\n</div>"
     },
     "execution_count": 47,
     "metadata": {},
     "output_type": "execute_result"
    }
   ],
   "source": [
    "ak_d['sn2101'] = ak_d['sn2101'].sort_values(by=\"rank\",ascending=False)\n",
    "ak_d['sn2101'].fillna({'vol_party_name':'-', 'long_party_name':'-', 'short_party_name':'-', 'vol':0.0, 'vol_chg':0.0, 'long_open_interest':0.0,\n",
    "                       'long_open_interest_chg':0.0, 'short_open_interest':0.0, 'short_open_interest_chg':0.0})"
   ],
   "metadata": {
    "collapsed": false
   }
  },
  {
   "cell_type": "markdown",
   "source": [
    "### 1. 使用 psycopg2 方法"
   ],
   "metadata": {
    "collapsed": false
   }
  },
  {
   "cell_type": "code",
   "execution_count": 29,
   "outputs": [],
   "source": [
    "# import psycopg2\n",
    "#\n",
    "# # 通过connect方法，创建连接对象 conn\n",
    "# # 这里连接的是本地的数据库\n",
    "# conn = psycopg2.connect(database=\"future\", user=\"postgres\", password=\"ck1/ck1@123456\", host=\"81.68.204.178\", port=\"6001\")\n",
    "#\n",
    "# # 执行之后不报错，就表示连接成功了！\n",
    "# print('postgreSQL数据库“db_test”连接成功!')\n",
    "# cursor=conn.cursor() ##通过cursor方法，对数据库进行操作\n",
    "# cursor.execute('''create table public.contract\n",
    "#                                 (\n",
    "#                                 tradingday varchar(8) not null primary key,\n",
    "#                                 productid varchar(5) not null,\n",
    "#                                 symbol varchar(10) not null,\n",
    "#                                 exchange varchar(10) not null,\n",
    "#                                 rank smallint not null,\n",
    "#                                 company varchar(30) not null,\n",
    "#                                 quantity numeric not null,\n",
    "#                                 change numeric not null,\n",
    "#                                 ranktype varchar(10) not null\n",
    "#                                 )''')\n",
    "#\n",
    "# conn.commit()"
   ],
   "metadata": {
    "collapsed": false
   }
  },
  {
   "cell_type": "markdown",
   "source": [
    "### 2. 使用 sqlalchemy 方法"
   ],
   "metadata": {
    "collapsed": false
   }
  },
  {
   "cell_type": "code",
   "execution_count": 3,
   "outputs": [],
   "source": [],
   "metadata": {
    "collapsed": false
   }
  },
  {
   "cell_type": "code",
   "execution_count": 3,
   "outputs": [],
   "source": [],
   "metadata": {
    "collapsed": false
   }
  },
  {
   "cell_type": "code",
   "execution_count": 7,
   "outputs": [
    {
     "data": {
      "text/plain": "'zn'"
     },
     "execution_count": 7,
     "metadata": {},
     "output_type": "execute_result"
    }
   ],
   "source": [
    "# receipt_id = 'null'\n",
    "# id_list = ['ZN8888.SHF', 'CU8888.SHF', 'AG8888.SHF', 'AU8888.SHF', 'AL8888.SHF', 'I8888.DCE', 'RB8888.SHF',\n",
    "#            'M8888.DCE', 'Y8888.DCE', 'P8888.DCE', 'CF8888.CZC',\n",
    "#            'RU8888.SHF', 'SC8888.SHF', 'FU8888.SHF', 'SP8888.SHF',\n",
    "#            'HC8888.SHF', 'NI8888.SHF', 'BU8888.SHF', 'SN8888.SHF',\n",
    "#            'SA8888.CZC', 'TA8888.CZC', 'MA8888.CZC', 'OI8888.CZC',\n",
    "#            'FG8888.CZC', 'V8888.DCE', 'EG8888.DCE', 'PP8888.DCE',\n",
    "#            'PG8888.DCE', 'EB8888.DCE', 'L8888.DCE', 'JD8888.DCE',\n",
    "#            'RM8888.CZC', 'SR8888.CZC', 'AP8888.CZC', 'J8888.DCE',\n",
    "#            'JM8888.DCE', 'SM8888.CZC', 'SF8888.CZC']\n",
    "# for i in id_list:\n",
    "#     if re.match(r\"[a-zA-Z]+\", i)[0].lower == 'zn':\n",
    "#         receipt_id = i\n",
    "# # print(receipt_id)\n",
    "# re.match(r\"[a-zA-Z]+\", 'ZN8888.SHF')[0].lower()"
   ],
   "metadata": {
    "collapsed": false
   }
  },
  {
   "cell_type": "code",
   "execution_count": 18,
   "outputs": [
    {
     "data": {
      "text/plain": "            0   1         2        3        4  5\n0    20210104  CU   -8334.0   1373.0   6961.0  0\n1    20210105  CU  -11516.0   1264.0  10252.0  0\n2    20210106  CU  -12127.0   7400.0   4727.0  0\n3    20210107  CU  -12883.0   5011.0   7872.0  0\n4    20210108  CU   -9777.0   1947.0   7830.0  0\n..        ...  ..       ...      ...      ... ..\n570  20230515  CU    4031.0    538.0  -4569.0  0\n571  20230516  CU    7695.0  -3771.0  -3924.0  0\n572  20230517  CU    8006.0  -4655.0  -3351.0  0\n573  20230518  CU    4654.0  -2560.0  -2094.0  0\n574  20230519  CU    5232.0   -823.0  -4409.0  0\n\n[575 rows x 6 columns]",
      "text/html": "<div>\n<style scoped>\n    .dataframe tbody tr th:only-of-type {\n        vertical-align: middle;\n    }\n\n    .dataframe tbody tr th {\n        vertical-align: top;\n    }\n\n    .dataframe thead th {\n        text-align: right;\n    }\n</style>\n<table border=\"1\" class=\"dataframe\">\n  <thead>\n    <tr style=\"text-align: right;\">\n      <th></th>\n      <th>0</th>\n      <th>1</th>\n      <th>2</th>\n      <th>3</th>\n      <th>4</th>\n      <th>5</th>\n    </tr>\n  </thead>\n  <tbody>\n    <tr>\n      <th>0</th>\n      <td>20210104</td>\n      <td>CU</td>\n      <td>-8334.0</td>\n      <td>1373.0</td>\n      <td>6961.0</td>\n      <td>0</td>\n    </tr>\n    <tr>\n      <th>1</th>\n      <td>20210105</td>\n      <td>CU</td>\n      <td>-11516.0</td>\n      <td>1264.0</td>\n      <td>10252.0</td>\n      <td>0</td>\n    </tr>\n    <tr>\n      <th>2</th>\n      <td>20210106</td>\n      <td>CU</td>\n      <td>-12127.0</td>\n      <td>7400.0</td>\n      <td>4727.0</td>\n      <td>0</td>\n    </tr>\n    <tr>\n      <th>3</th>\n      <td>20210107</td>\n      <td>CU</td>\n      <td>-12883.0</td>\n      <td>5011.0</td>\n      <td>7872.0</td>\n      <td>0</td>\n    </tr>\n    <tr>\n      <th>4</th>\n      <td>20210108</td>\n      <td>CU</td>\n      <td>-9777.0</td>\n      <td>1947.0</td>\n      <td>7830.0</td>\n      <td>0</td>\n    </tr>\n    <tr>\n      <th>...</th>\n      <td>...</td>\n      <td>...</td>\n      <td>...</td>\n      <td>...</td>\n      <td>...</td>\n      <td>...</td>\n    </tr>\n    <tr>\n      <th>570</th>\n      <td>20230515</td>\n      <td>CU</td>\n      <td>4031.0</td>\n      <td>538.0</td>\n      <td>-4569.0</td>\n      <td>0</td>\n    </tr>\n    <tr>\n      <th>571</th>\n      <td>20230516</td>\n      <td>CU</td>\n      <td>7695.0</td>\n      <td>-3771.0</td>\n      <td>-3924.0</td>\n      <td>0</td>\n    </tr>\n    <tr>\n      <th>572</th>\n      <td>20230517</td>\n      <td>CU</td>\n      <td>8006.0</td>\n      <td>-4655.0</td>\n      <td>-3351.0</td>\n      <td>0</td>\n    </tr>\n    <tr>\n      <th>573</th>\n      <td>20230518</td>\n      <td>CU</td>\n      <td>4654.0</td>\n      <td>-2560.0</td>\n      <td>-2094.0</td>\n      <td>0</td>\n    </tr>\n    <tr>\n      <th>574</th>\n      <td>20230519</td>\n      <td>CU</td>\n      <td>5232.0</td>\n      <td>-823.0</td>\n      <td>-4409.0</td>\n      <td>0</td>\n    </tr>\n  </tbody>\n</table>\n<p>575 rows × 6 columns</p>\n</div>"
     },
     "execution_count": 18,
     "metadata": {},
     "output_type": "execute_result"
    }
   ],
   "source": [
    "import psycopg2\n",
    "conn = psycopg2.connect(database=\"future\", user=\"postgres\", password=\"ck1/ck1@123456\", host=\"81.68.204.178\",\n",
    "                            port=\"6001\")\n",
    "# 执行之后不报错，就表示连接成功了！\n",
    "# print('postgreSQL数据库“db_test”连接成功!')\n",
    "def chi_c_get(contract_id):\n",
    "    cursor = conn.cursor()  ##通过cursor方法，对数据库进行操作\n",
    "    query = \"select * from public.{} where productid ilike {}\".format('\"Chi_cang\"',\"'\" + contract_id + \"'\")\n",
    "    cursor.execute(query)\n",
    "    rows = cursor.fetchall()\n",
    "    df = pd.DataFrame(rows)\n",
    "    return df\n",
    "chi_c_get('CU')"
   ],
   "metadata": {
    "collapsed": false
   }
  },
  {
   "cell_type": "code",
   "execution_count": null,
   "outputs": [],
   "source": [],
   "metadata": {
    "collapsed": false
   }
  }
 ],
 "metadata": {
  "kernelspec": {
   "display_name": "Python 3",
   "language": "python",
   "name": "python3"
  },
  "language_info": {
   "codemirror_mode": {
    "name": "ipython",
    "version": 2
   },
   "file_extension": ".py",
   "mimetype": "text/x-python",
   "name": "python",
   "nbconvert_exporter": "python",
   "pygments_lexer": "ipython2",
   "version": "2.7.6"
  }
 },
 "nbformat": 4,
 "nbformat_minor": 0
}

{
 "cells": [
  {
   "attachments": {},
   "cell_type": "markdown",
   "metadata": {},
   "source": [
    "### 1.数据接口"
   ]
  },
  {
   "cell_type": "code",
   "execution_count": 1,
   "metadata": {},
   "outputs": [],
   "source": [
    "# encoding: UTF-8\n",
    "import logging\n",
    "logger = logging.getLogger()\n",
    "\n",
    "import requests\n",
    "import json\n",
    "import pandas as pd\n",
    "import numpy as np\n",
    "\n",
    "class SQI_DB(object):\n",
    "    def __init__(self, url='http://182.254.241.204:5001', user='huangyangcheng@sqicapital.com', password='sq123456'):\n",
    "        self.url = url\n",
    "        self.user = user\n",
    "        self.password = password\n",
    "        self.token = self.generate_token()\n",
    "\n",
    "    def generate_token(self):\n",
    "        login_url = self.url + \"/auth/login\"\n",
    "        headers = {'content-type': 'application/json'}\n",
    "        login_info = {'email': self.user, 'password': self.password}\n",
    "        login_response = requests.post(login_url, data=json.dumps(login_info), headers=headers)\n",
    "        return json.loads(login_response.text)['auth_token']\n",
    "\n",
    "    #-------------------------------------------------------------------------------------------------------------------\n",
    "    #CCM日频时间序列接口\n",
    "    def get_ssd(self, index_id, startday='', endday='',source='ifind', ret_type='df'):\n",
    "        data_header = {'Authorization': 'Basic ' + self.token, 'content-type': 'application/json'}\n",
    "        data_url = self.url + \"/ssd\"\n",
    "        data_info = {\n",
    "            'indexes': [\n",
    "                {\n",
    "                    'id': index_id,\n",
    "                    'startday': startday,\n",
    "                    'endday': endday,\n",
    "                }\n",
    "            ],\n",
    "            'source':source\n",
    "        }\n",
    "        data_rsp = requests.post(data_url, data=json.dumps(data_info), headers=data_header)\n",
    "        data = json.loads(json.loads(data_rsp.text)['data'])\n",
    "        if ret_type == 'df':\n",
    "            df = pd.DataFrame(data)\n",
    "        else:\n",
    "            # raise warning !\n",
    "            raise ValueError('Unsupported ret_type={}'.format(ret_type))\n",
    "        return df\n",
    "\n",
    "    #CCM K线接口数据\n",
    "    def get_bar(self, symbol, bartype, ret_type='df'):\n",
    "        data_header = {'Authorization': 'Basic ' + self.token, 'content-type': 'application/json'}\n",
    "        data_url = self.url + \"/bar\"\n",
    "        data_info = {\n",
    "            'index':\n",
    "                {\n",
    "                    'symbol': symbol,\n",
    "                    'bartype': bartype    #'1 Min'  '5 Min' '15 Min'  '1 Hour' 'Daily'\n",
    "                }\n",
    "        }\n",
    "        data_rsp = requests.post(data_url, data=json.dumps(data_info), headers=data_header)\n",
    "        data = json.loads(json.loads(data_rsp.text)['data'])\n",
    "        if ret_type == 'df':\n",
    "            df = pd.DataFrame(data)\n",
    "        else:\n",
    "            raise ValueError('Unsupported ret_type={}'.format(ret_type))\n",
    "        return df"
   ]
  },
  {
   "cell_type": "markdown",
   "metadata": {
    "collapsed": false
   },
   "source": [
    "### 2.生成 SQI_DB 对象"
   ]
  },
  {
   "cell_type": "code",
   "execution_count": 2,
   "metadata": {
    "collapsed": false
   },
   "outputs": [
    {
     "ename": "KeyError",
     "evalue": "'auth_token'",
     "output_type": "error",
     "traceback": [
      "\u001B[1;31m---------------------------------------------------------------------------\u001B[0m",
      "\u001B[1;31mKeyError\u001B[0m                                  Traceback (most recent call last)",
      "Input \u001B[1;32mIn [2]\u001B[0m, in \u001B[0;36m<cell line: 1>\u001B[1;34m()\u001B[0m\n\u001B[1;32m----> 1\u001B[0m download \u001B[38;5;241m=\u001B[39m \u001B[43mSQI_DB\u001B[49m\u001B[43m(\u001B[49m\u001B[43m)\u001B[49m\n",
      "Input \u001B[1;32mIn [1]\u001B[0m, in \u001B[0;36mSQI_DB.__init__\u001B[1;34m(self, url, user, password)\u001B[0m\n\u001B[0;32m     13\u001B[0m \u001B[38;5;28mself\u001B[39m\u001B[38;5;241m.\u001B[39muser \u001B[38;5;241m=\u001B[39m user\n\u001B[0;32m     14\u001B[0m \u001B[38;5;28mself\u001B[39m\u001B[38;5;241m.\u001B[39mpassword \u001B[38;5;241m=\u001B[39m password\n\u001B[1;32m---> 15\u001B[0m \u001B[38;5;28mself\u001B[39m\u001B[38;5;241m.\u001B[39mtoken \u001B[38;5;241m=\u001B[39m \u001B[38;5;28;43mself\u001B[39;49m\u001B[38;5;241;43m.\u001B[39;49m\u001B[43mgenerate_token\u001B[49m\u001B[43m(\u001B[49m\u001B[43m)\u001B[49m\n",
      "Input \u001B[1;32mIn [1]\u001B[0m, in \u001B[0;36mSQI_DB.generate_token\u001B[1;34m(self)\u001B[0m\n\u001B[0;32m     20\u001B[0m login_info \u001B[38;5;241m=\u001B[39m {\u001B[38;5;124m'\u001B[39m\u001B[38;5;124memail\u001B[39m\u001B[38;5;124m'\u001B[39m: \u001B[38;5;28mself\u001B[39m\u001B[38;5;241m.\u001B[39muser, \u001B[38;5;124m'\u001B[39m\u001B[38;5;124mpassword\u001B[39m\u001B[38;5;124m'\u001B[39m: \u001B[38;5;28mself\u001B[39m\u001B[38;5;241m.\u001B[39mpassword}\n\u001B[0;32m     21\u001B[0m login_response \u001B[38;5;241m=\u001B[39m requests\u001B[38;5;241m.\u001B[39mpost(login_url, data\u001B[38;5;241m=\u001B[39mjson\u001B[38;5;241m.\u001B[39mdumps(login_info), headers\u001B[38;5;241m=\u001B[39mheaders)\n\u001B[1;32m---> 22\u001B[0m \u001B[38;5;28;01mreturn\u001B[39;00m \u001B[43mjson\u001B[49m\u001B[38;5;241;43m.\u001B[39;49m\u001B[43mloads\u001B[49m\u001B[43m(\u001B[49m\u001B[43mlogin_response\u001B[49m\u001B[38;5;241;43m.\u001B[39;49m\u001B[43mtext\u001B[49m\u001B[43m)\u001B[49m\u001B[43m[\u001B[49m\u001B[38;5;124;43m'\u001B[39;49m\u001B[38;5;124;43mauth_token\u001B[39;49m\u001B[38;5;124;43m'\u001B[39;49m\u001B[43m]\u001B[49m\n",
      "\u001B[1;31mKeyError\u001B[0m: 'auth_token'"
     ]
    }
   ],
   "source": [
    "download = SQI_DB()"
   ]
  },
  {
   "cell_type": "markdown",
   "metadata": {
    "collapsed": false
   },
   "source": [
    "### 3. CCM日频时间序列接口 get_ssd()\n",
    "**交易品种:**\n",
    "- **有色**：\n",
    "1.铜(cu8888)\n",
    "- **贵金属**：\n",
    "2.黄金(AU8888)\n",
    "- **黑色**：\n",
    "3.铁矿(I8888), 4.螺纹钢(RB8888),\n",
    "- **农产品**：\n",
    "5.豆粕(M8888), 6.豆油(Y8888), 7.棕榈油(P8888), 8.棉花(CF8888)\n",
    "- **化工**：\n",
    "9.橡胶(RU8888), 10.原油(SC8888)"
   ]
  },
  {
   "cell_type": "code",
   "execution_count": 3,
   "metadata": {},
   "outputs": [],
   "source": [
    "# ## 生成 \"SQI_DB\" 的对象\n",
    "# id_list = ['ZN8888.SHF', 'CU8888.SHF', 'AG8888.SHF', 'AU8888.SHF', 'AL8888.SHF', 'I8888.DCE', 'RB8888.SHF',\n",
    "#            'M8888.DCE', 'Y8888.DCE', 'P8888.DCE', 'CF8888.CZC',\n",
    "#            'RU8888.SHF', 'SC8888.SHF', 'FU8888.SHF', 'SP8888.SHF',\n",
    "#            'HC8888.SHF', 'NI8888.SHF', 'BU8888.SHF', 'SN8888.SHF',\n",
    "#            'SA8888.CZC', 'TA8888.CZC', 'MA8888.CZC', 'OI8888.CZC',\n",
    "#            'FG8888.CZC', 'V8888.DCE', 'EG8888.DCE', 'PP8888.DCE',\n",
    "#            'PG8888.DCE', 'EB8888.DCE', 'L8888.DCE']\n",
    "# df_list = []\n",
    "# def append_df(target, list_id, list_df):\n",
    "#     for i in range(len(list_id)):\n",
    "#         df = target.get_ssd(list_id[i]).dropna()\n",
    "#         df = df.drop(index=df[df['index_value'] == 0].index)\n",
    "#         df['tradingday'] = df['tradingday'].apply(lambda x: x[:4] + '-' + x[4:6] + '-' + x[6:8])\n",
    "#         list_df.append(df)\n",
    "# append_df(download, id_list, df_list)"
   ]
  },
  {
   "cell_type": "code",
   "execution_count": 7,
   "outputs": [],
   "source": [
    "# df_list[8]"
   ],
   "metadata": {
    "collapsed": false
   }
  },
  {
   "cell_type": "code",
   "execution_count": 8,
   "metadata": {
    "collapsed": false
   },
   "outputs": [],
   "source": [
    "# import datetime\n",
    "# df = df_list[3]\n",
    "# # df = dt.datetime.strptime(df_list[8]['tradingday'], '%Y-%m-%d')\n",
    "# df['tradingday'] = pd.to_datetime(df['tradingday'], errors='coerce')\n",
    "# df['month'] = df['tradingday'].apply(lambda x: x.month)\n",
    "# df['first'] = df['tradingday'].where(df['month'] != df.shift(1)['month'], np.nan)\n",
    "# df['last'] = df['tradingday'].where(df['month'] != df.shift(-1)['month'], np.nan)\n",
    "# df = df[df['first'].notna() | df['last'].notna()]\n",
    "# df = df.iloc[2:]\n",
    "# df['tradingday'] = df['tradingday'].apply(lambda x: x.year)\n",
    "#\n",
    "# def ratio_to_peak(series):\n",
    "#     return (series.iloc[-1]/series.iloc[0])-1\n",
    "#\n",
    "# def positive_probability(series):\n",
    "#     return (series.sum()/len(series))*100\n",
    "#\n",
    "# print(datetime.datetime.now().year)\n",
    "# # df = df.groupby(['tradingday', 'month'])[\"index_value\"].agg(ratio_to_peak)\n",
    "# # df = df.reset_index()\n",
    "# # df['positive'] = df['index_value'].apply(lambda x: x>0).replace(True, 1).replace(False, 0)\n",
    "# # df = df.groupby('month')[['index_value', 'positive']].agg(positive_probability)\n",
    "# # month_avg = np.round(df['index_value'].to_list(),2)\n",
    "# # month_possibility = np.round(df['positive'].to_list(),2)\n",
    "# # display(df)\n",
    "# # print(month_avg)\n",
    "# # print(month_possibility)\n",
    "# df[df['tradingday'] >= datetime.datetime.now().year-2]"
   ]
  },
  {
   "cell_type": "code",
   "execution_count": 12,
   "outputs": [],
   "source": [
    "import math\n",
    "# def price_ratio(ar):\n",
    "#     ratio_list = []\n",
    "#     for i in range(len(ar)-1):\n",
    "#         ratio_list.append(math.log((ar[i+1]/ar[i]), math.e))\n",
    "#     return ratio_list"
   ],
   "metadata": {
    "collapsed": false
   }
  },
  {
   "cell_type": "code",
   "execution_count": 4,
   "outputs": [],
   "source": [
    "# category_list = ['有色', '有色', '贵金属', '贵金属', '有色', '黑色', '黑色',\n",
    "#                  '农产品', '农产品', '农产品', '农产品',\n",
    "#                  '化工', '化工', '化工', '化工',\n",
    "#                  '黑色', '有色', '化工', '有色',\n",
    "#                  '化工', '化工', '化工', '农产品',\n",
    "#                  '化工', '化工', '化工', '化工',\n",
    "#                  '化工', '化工', '化工']\n",
    "# typo = 4\n",
    "# cor_list = []\n",
    "# for i in range(len(category_list)):\n",
    "#     if category_list[i]  == '有色' and typo == 1:\n",
    "#         cor_list.append((df_list[i].tail(55)['index_value'].to_list()))\n",
    "#     elif category_list[i] == '贵金属' and typo == 2:\n",
    "#         cor_list.append((df_list[i].tail(55)['index_value'].to_list()))\n",
    "#     elif category_list[i] == '黑色' and typo == 3:\n",
    "#         cor_list.append((df_list[i].tail(55)['index_value'].to_list()))\n",
    "#     elif category_list[i] == '农产品' and typo == 4:\n",
    "#         cor_list.append((df_list[i].tail(55)['index_value'].to_list()))\n",
    "#     elif category_list[i] == '化工' and typo == 5:\n",
    "#         cor_list.append((df_list[i].tail(55)['index_value'].to_list()))\n",
    "# print(np.corrcoef(cor_list))\n",
    "# # print(np.corrcoef(df_list[8].tail(55)['index_value'].to_list(), df_list[9].tail(55)['index_value'].to_list()))\n",
    "# # print(len(np.corrcoef(cor [0.97955664 1.        ]]_list[0],cor_list[1])))"
   ],
   "metadata": {
    "collapsed": false
   }
  },
  {
   "cell_type": "markdown",
   "metadata": {
    "collapsed": false
   },
   "source": [
    "### 4.CCM K线接口数据 get_bar()"
   ]
  },
  {
   "cell_type": "code",
   "execution_count": 12,
   "metadata": {
    "collapsed": false
   },
   "outputs": [
    {
     "data": {
      "text/plain": "    tradingday bartime  openprice  highprice  lowprice  closeprice  volume  \\\n0     20220517   21:01    70330.0    70330.0   70330.0     70330.0       0   \n1     20220518   21:01    70770.0    70770.0   70480.0     70710.0      23   \n2     20220519   21:01    70220.0    70710.0   70220.0     70300.0       3   \n3     20220520   21:01    70740.0    71000.0   70300.0     71000.0       7   \n4     20220523   21:01    71100.0    71100.0   70900.0     70900.0      12   \n..         ...     ...        ...        ...       ...         ...     ...   \n219   20230407   21:01    68400.0    69090.0   68120.0     69040.0  106360   \n220   20230410   21:01    68810.0    69050.0   68620.0     68740.0   58300   \n221   20230411   21:01    68280.0    69040.0   68280.0     68880.0   94544   \n222   20230412   21:01    68880.0    69310.0   68740.0     68860.0  106228   \n223   20230413   21:01    68950.0    69470.0   68830.0     69170.0  111214   \n\n     openinterest  \n0             0.0  \n1            21.0  \n2            22.0  \n3            27.0  \n4            33.0  \n..            ...  \n219      165833.0  \n220      162497.0  \n221      168974.0  \n222      167373.0  \n223      170762.0  \n\n[224 rows x 8 columns]",
      "text/html": "<div>\n<style scoped>\n    .dataframe tbody tr th:only-of-type {\n        vertical-align: middle;\n    }\n\n    .dataframe tbody tr th {\n        vertical-align: top;\n    }\n\n    .dataframe thead th {\n        text-align: right;\n    }\n</style>\n<table border=\"1\" class=\"dataframe\">\n  <thead>\n    <tr style=\"text-align: right;\">\n      <th></th>\n      <th>tradingday</th>\n      <th>bartime</th>\n      <th>openprice</th>\n      <th>highprice</th>\n      <th>lowprice</th>\n      <th>closeprice</th>\n      <th>volume</th>\n      <th>openinterest</th>\n    </tr>\n  </thead>\n  <tbody>\n    <tr>\n      <th>0</th>\n      <td>20220517</td>\n      <td>21:01</td>\n      <td>70330.0</td>\n      <td>70330.0</td>\n      <td>70330.0</td>\n      <td>70330.0</td>\n      <td>0</td>\n      <td>0.0</td>\n    </tr>\n    <tr>\n      <th>1</th>\n      <td>20220518</td>\n      <td>21:01</td>\n      <td>70770.0</td>\n      <td>70770.0</td>\n      <td>70480.0</td>\n      <td>70710.0</td>\n      <td>23</td>\n      <td>21.0</td>\n    </tr>\n    <tr>\n      <th>2</th>\n      <td>20220519</td>\n      <td>21:01</td>\n      <td>70220.0</td>\n      <td>70710.0</td>\n      <td>70220.0</td>\n      <td>70300.0</td>\n      <td>3</td>\n      <td>22.0</td>\n    </tr>\n    <tr>\n      <th>3</th>\n      <td>20220520</td>\n      <td>21:01</td>\n      <td>70740.0</td>\n      <td>71000.0</td>\n      <td>70300.0</td>\n      <td>71000.0</td>\n      <td>7</td>\n      <td>27.0</td>\n    </tr>\n    <tr>\n      <th>4</th>\n      <td>20220523</td>\n      <td>21:01</td>\n      <td>71100.0</td>\n      <td>71100.0</td>\n      <td>70900.0</td>\n      <td>70900.0</td>\n      <td>12</td>\n      <td>33.0</td>\n    </tr>\n    <tr>\n      <th>...</th>\n      <td>...</td>\n      <td>...</td>\n      <td>...</td>\n      <td>...</td>\n      <td>...</td>\n      <td>...</td>\n      <td>...</td>\n      <td>...</td>\n    </tr>\n    <tr>\n      <th>219</th>\n      <td>20230407</td>\n      <td>21:01</td>\n      <td>68400.0</td>\n      <td>69090.0</td>\n      <td>68120.0</td>\n      <td>69040.0</td>\n      <td>106360</td>\n      <td>165833.0</td>\n    </tr>\n    <tr>\n      <th>220</th>\n      <td>20230410</td>\n      <td>21:01</td>\n      <td>68810.0</td>\n      <td>69050.0</td>\n      <td>68620.0</td>\n      <td>68740.0</td>\n      <td>58300</td>\n      <td>162497.0</td>\n    </tr>\n    <tr>\n      <th>221</th>\n      <td>20230411</td>\n      <td>21:01</td>\n      <td>68280.0</td>\n      <td>69040.0</td>\n      <td>68280.0</td>\n      <td>68880.0</td>\n      <td>94544</td>\n      <td>168974.0</td>\n    </tr>\n    <tr>\n      <th>222</th>\n      <td>20230412</td>\n      <td>21:01</td>\n      <td>68880.0</td>\n      <td>69310.0</td>\n      <td>68740.0</td>\n      <td>68860.0</td>\n      <td>106228</td>\n      <td>167373.0</td>\n    </tr>\n    <tr>\n      <th>223</th>\n      <td>20230413</td>\n      <td>21:01</td>\n      <td>68950.0</td>\n      <td>69470.0</td>\n      <td>68830.0</td>\n      <td>69170.0</td>\n      <td>111214</td>\n      <td>170762.0</td>\n    </tr>\n  </tbody>\n</table>\n<p>224 rows × 8 columns</p>\n</div>"
     },
     "execution_count": 12,
     "metadata": {},
     "output_type": "execute_result"
    }
   ],
   "source": [
    "bar_Cu = download.get_bar('cu2305', 'Daily')\n",
    "bar_Cu"
   ]
  },
  {
   "cell_type": "markdown",
   "metadata": {
    "collapsed": false
   },
   "source": [
    "### 5. Bubble Distribution\n",
    "**standard deviation**: $s=\\sqrt{\\frac{(\\sum{X-\\bar{x})^2}}{N}}$"
   ]
  },
  {
   "cell_type": "code",
   "execution_count": 22,
   "metadata": {
    "collapsed": false
   },
   "outputs": [],
   "source": [
    "# ## 分位数 -> [0,100,5]\n",
    "# import math\n",
    "# def price_quantile(ar):\n",
    "#     price = ar[len(ar)-1]\n",
    "#     ar.sort()\n",
    "#     l = len(ar)\n",
    "#     for i in range(l):\n",
    "#         if ar[i]>price:\n",
    "#             return int((i/l)*100)\n",
    "#         elif i == l-1:\n",
    "#             return 100\n",
    "#\n",
    "#\n",
    "# ## 波动率 -> list\n",
    "# ## 取55天算std\n",
    "# def volatility(ar):\n",
    "#     vol_list = []\n",
    "#     vol_std_list = []\n",
    "#     for i in range(len(ar)-1):\n",
    "#         vol_list.append(math.log((ar[i+1]/ar[i]), math.e))\n",
    "#     for i in range(len(ar)-54):\n",
    "#         vol_std_list.append(np.std(vol_list[i:i+55])*15.5)\n",
    "#     return vol_std_list\n",
    "#\n",
    "# def price_ratio(ar):\n",
    "#     ratio_list = []\n",
    "#     for i in range(len(ar)-1):\n",
    "#         ratio_list.append(math.log((ar[i+1]/ar[i]), math.e))\n",
    "#     return ratio_list"
   ]
  },
  {
   "cell_type": "markdown",
   "metadata": {
    "collapsed": false
   },
   "source": [
    "### 可视化"
   ]
  },
  {
   "cell_type": "code",
   "execution_count": 9,
   "metadata": {
    "collapsed": false
   },
   "outputs": [],
   "source": [
    "# ### Scatter Plot\n",
    "# from pyecharts.globals import CurrentConfig, NotebookType\n",
    "# CurrentConfig.NOTEBOOK_TYPE = NotebookType.JUPYTER_LAB\n",
    "# import pyecharts.options as opts\n",
    "# from pyecharts.charts import Scatter\n",
    "# from pyecharts.commons.utils import JsCode\n",
    "# from pyecharts.faker import Faker\n",
    "# bubble_point = []\n",
    "# label_list = ['铜CU8888.SHF', '黄金AU8888.SHF', '铁矿I8888.DCE', '螺纹钢RB8888.SHF', '豆粕M8888.DCE','豆油Y8888.DCE','棕榈油P8888.DCE',\n",
    "#                  '棉花CF8888.CZC','橡胶RU8888.SHF','原油SC8888.SHF']\n",
    "# for i in range(len(df_list)):\n",
    "#     arr1 = df_list[i]['index_value'].to_list()\n",
    "#     arr2 = df_list[i]['index_value'].to_list()\n",
    "#     bubble_point.append([price_quantile(arr1), price_quantile(volatility(arr2))])\n",
    "# x_data = [d[0] for d in bubble_point]\n",
    "# y_data = [d[1] for d in bubble_point]\n",
    "# print(x_data)\n",
    "# print(y_data)\n",
    "# print(y_data[0])\n",
    "# scatter = (\n",
    "#     Scatter(init_opts=opts.InitOpts(bg_color='rgb(255,255,255)'))\n",
    "#     .add_xaxis(xaxis_data = x_data[0:1])\n",
    "#     .add_yaxis(series_name='有色',y_axis = y_data[0:1], label_opts=opts.LabelOpts(position = 'right',formatter='铜CU8888.SHF'), symbol_size=40)\n",
    "#     .add_xaxis(xaxis_data = x_data[1:2])\n",
    "#     .add_yaxis(series_name='贵金属',y_axis = y_data[1:2], label_opts=opts.LabelOpts(position = 'right',formatter='黄金AU8888.SHF'), symbol_size=40)\n",
    "#     .add_xaxis(xaxis_data = x_data[2:3])\n",
    "#     .add_yaxis(series_name='黑色',y_axis = y_data[2:3], label_opts=opts.LabelOpts(position = 'right',formatter='铁矿I8888.DCE'), symbol_size=40)\n",
    "#     .add_xaxis(xaxis_data = x_data[3:4])\n",
    "#     .add_yaxis(series_name='黑色',y_axis = y_data[3:4], label_opts=opts.LabelOpts(position = 'right',formatter='螺纹钢RB8888.SHF'), symbol_size=40)\n",
    "#     .add_xaxis(xaxis_data = x_data[4:5])\n",
    "#     .add_yaxis(series_name='农产品',y_axis = y_data[4:5], label_opts=opts.LabelOpts(position = 'right',formatter='豆粕M8888.DCE'), symbol_size=40)\n",
    "#     .add_xaxis(xaxis_data = x_data[5:6])\n",
    "#     .add_yaxis(series_name='农产品',y_axis = y_data[5:6], label_opts=opts.LabelOpts(position = 'right',formatter='豆油Y8888.DCE'), symbol_size=40)\n",
    "#     .add_xaxis(xaxis_data = x_data[6:7])\n",
    "#     .add_yaxis(series_name='农产品',y_axis = y_data[6:7], label_opts=opts.LabelOpts(position = 'right',formatter='棕榈油P8888.DCE'), symbol_size=40)\n",
    "#     .add_xaxis(xaxis_data = x_data[7:8])\n",
    "#     .add_yaxis(series_name='农产品',y_axis = y_data[7:8], label_opts=opts.LabelOpts(position = 'right',formatter='棉花CF8888.CZC'), symbol_size=40)\n",
    "#     .add_xaxis(xaxis_data = x_data[8:9])\n",
    "#     .add_yaxis(series_name='化工',y_axis = y_data[8:9], label_opts=opts.LabelOpts(position = 'right',formatter='橡胶RU8888.SHF'), symbol_size=40)\n",
    "#     .add_xaxis(xaxis_data = x_data[9:10])\n",
    "#     .add_yaxis(series_name='化工',y_axis = y_data[9:10], label_opts=opts.LabelOpts(position = 'right',formatter='原油SC8888.SHF'), symbol_size=40)\n",
    "#     .set_series_opts()\n",
    "#     .set_global_opts(\n",
    "#         xaxis_opts=opts.AxisOpts(\n",
    "#             name = '价格分位数(%)',\n",
    "#             name_location= 'middle', name_gap= 40,\n",
    "#             type_=\"value\", splitline_opts=opts.SplitLineOpts(is_show=True)\n",
    "#         ),\n",
    "#         yaxis_opts=opts.AxisOpts(\n",
    "#             type_=\"value\",\n",
    "#             name = '波动率分位数(%)',\n",
    "#             name_location= 'middle', name_gap= 40,\n",
    "#         ),\n",
    "#         tooltip_opts=opts.TooltipOpts(\n",
    "#             formatter=JsCode(\n",
    "#                 \"function (params) {return '价格分位数:' + params.value[0] + '%' + '<br>' + '波动率分位数:' + params.value[1] + '%';}\"\n",
    "#             )\n",
    "#         ),\n",
    "#         title_opts=opts.TitleOpts(title=\"期货交易 (价格 vs. 波动率分位数)\"),\n",
    "#     )\n",
    "# )\n",
    "# scatter.render(\"basic_scatter_chart.html\")\n",
    "# scatter.load_javascript()"
   ]
  },
  {
   "cell_type": "code",
   "execution_count": null,
   "outputs": [],
   "source": [],
   "metadata": {
    "collapsed": false
   }
  }
 ],
 "metadata": {
  "kernelspec": {
   "display_name": "base",
   "language": "python",
   "name": "python3"
  },
  "language_info": {
   "codemirror_mode": {
    "name": "ipython",
    "version": 3
   },
   "file_extension": ".py",
   "mimetype": "text/x-python",
   "name": "python",
   "nbconvert_exporter": "python",
   "pygments_lexer": "ipython3",
   "version": "3.9.12"
  },
  "orig_nbformat": 4
 },
 "nbformat": 4,
 "nbformat_minor": 2
}
